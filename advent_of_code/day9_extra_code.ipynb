{
 "cells": [
  {
   "cell_type": "code",
   "execution_count": 1,
   "id": "c91b5504-623b-4c6c-a93d-7e0c84325a56",
   "metadata": {
    "tags": []
   },
   "outputs": [],
   "source": [
    "def predict_next(input_list):\n",
    "    last_pos = []\n",
    "    last_pos.append[input_list[-1]]\n",
    "    i = 0\n",
    "    for number in range(len(input_list)):\n",
    "        diff_list  = []\n",
    "        diff_list.append(input_list[number + 1] - input_list[number])\n",
    "    return(diff_list)"
   ]
  },
  {
   "cell_type": "code",
   "execution_count": 4,
   "id": "4140cedc-cc9f-4367-bba0-566db0659032",
   "metadata": {
    "tags": []
   },
   "outputs": [
    {
     "name": "stdout",
     "output_type": "stream",
     "text": [
      "21\n"
     ]
    }
   ],
   "source": [
    "list_one = [1, 3, 6, 10, 15, 21]\n",
    "print(list_one[-1])"
   ]
  },
  {
   "cell_type": "code",
   "execution_count": 5,
   "id": "0db1413e-ecc5-4aeb-8a06-c43d49971923",
   "metadata": {
    "tags": []
   },
   "outputs": [],
   "source": [
    "innocent = [0, -1, 2, 0, 3]\n",
    "def all_zero(num):\n",
    "    for n in num:\n",
    "        if n != 0:\n",
    "            return False\n",
    "    return True"
   ]
  },
  {
   "cell_type": "code",
   "execution_count": 6,
   "id": "9cb1c766-cf89-4133-9ac0-116ea359c939",
   "metadata": {
    "tags": []
   },
   "outputs": [
    {
     "data": {
      "text/plain": [
       "False"
      ]
     },
     "execution_count": 6,
     "metadata": {},
     "output_type": "execute_result"
    }
   ],
   "source": [
    "all_zero(innocent)"
   ]
  },
  {
   "cell_type": "code",
   "execution_count": null,
   "id": "984da7ff-e70b-4f82-b4a9-1ee1b64354c1",
   "metadata": {},
   "outputs": [],
   "source": []
  }
 ],
 "metadata": {
  "kernelspec": {
   "display_name": "Python 3 (ipykernel)",
   "language": "python",
   "name": "python3"
  },
  "language_info": {
   "codemirror_mode": {
    "name": "ipython",
    "version": 3
   },
   "file_extension": ".py",
   "mimetype": "text/x-python",
   "name": "python",
   "nbconvert_exporter": "python",
   "pygments_lexer": "ipython3",
   "version": "3.11.5"
  }
 },
 "nbformat": 4,
 "nbformat_minor": 5
}
